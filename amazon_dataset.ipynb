{
 "cells": [
  {
   "cell_type": "markdown",
   "metadata": {},
   "source": [
    "# Jobs available in Banglore and Seattle"
   ]
  },
  {
   "cell_type": "code",
   "execution_count": 4,
   "metadata": {},
   "outputs": [
    {
     "name": "stdout",
     "output_type": "stream",
     "text": [
      "Jobs in banglore 66\n",
      "Jobs in Seattle 1856\n"
     ]
    }
   ],
   "source": [
    "import csv\n",
    "count1=0\n",
    "count2=0\n",
    "with open('Datasets/amazon_jobs_dataset.csv','r',encoding=\"utf8\") as file_obj:\n",
    "    file_data=csv.reader(file_obj,skipinitialspace=True)\n",
    "    file_list=list(file_data)\n",
    "location=[]\n",
    "for row in file_list[1:]:\n",
    "    value=row[2]\n",
    "    if 'Bangalore' in value:\n",
    "        count1+=1\n",
    "    elif 'Seattle' in value:\n",
    "        count2+=1\n",
    "print(\"Jobs in banglore\",count1)\n",
    "print(\"Jobs in Seattle\",count2)\n"
   ]
  },
  {
   "cell_type": "markdown",
   "metadata": {},
   "source": [
    "# Jobs available as a Computer Vision"
   ]
  },
  {
   "cell_type": "code",
   "execution_count": 6,
   "metadata": {},
   "outputs": [
    {
     "name": "stdout",
     "output_type": "stream",
     "text": [
      "jobs in Computer Vision 14\n"
     ]
    }
   ],
   "source": [
    "import csv\n",
    "count1=0\n",
    "with open('Datasets/amazon_jobs_dataset.csv','r',encoding=\"utf8\") as file_obj:\n",
    "    file_data=csv.reader(file_obj,skipinitialspace=True)\n",
    "    file_list=list(file_data)\n",
    "jobs=[]\n",
    "for row in file_list[1:]:\n",
    "    value=row[1]\n",
    "    if 'Computer Vision' in value:\n",
    "        count1+=1\n",
    "print(\"jobs in Computer Vision\",count1)        \n",
    "    "
   ]
  },
  {
   "cell_type": "markdown",
   "metadata": {},
   "source": [
    "# jobs available in Canada"
   ]
  },
  {
   "cell_type": "code",
   "execution_count": 3,
   "metadata": {},
   "outputs": [
    {
     "name": "stdout",
     "output_type": "stream",
     "text": [
      "jobs in canada are 156\n"
     ]
    }
   ],
   "source": [
    "import csv\n",
    "count1=0\n",
    "with open('Datasets/amazon_jobs_dataset.csv','r',encoding=\"utf8\") as file_obj:\n",
    "    file_data=csv.reader(file_obj,skipinitialspace=True)\n",
    "    file_list=list(file_data)\n",
    "jobs=[]\n",
    "for row in file_list[1:]:\n",
    "    value=row[2].split(\",\")\n",
    "    if(value[0]=='CA') :  \n",
    "        count1+=1\n",
    "print(\"jobs in canada are\",count1)             \n",
    "    "
   ]
  },
  {
   "cell_type": "markdown",
   "metadata": {},
   "source": [
    "# Highest no of job openings in month"
   ]
  },
  {
   "cell_type": "code",
   "execution_count": 9,
   "metadata": {},
   "outputs": [
    {
     "name": "stdout",
     "output_type": "stream",
     "text": [
      "The no of jobs openings are in month January with no of openings 907\n"
     ]
    }
   ],
   "source": [
    "import csv\n",
    "count1=0\n",
    "with open('Datasets/amazon_jobs_dataset.csv','r',encoding=\"utf8\") as file_obj:\n",
    "    file_data=csv.reader(file_obj,skipinitialspace=True)\n",
    "    file_list=list(file_data)\n",
    "dict={}\n",
    "for row in file_list[1:]:\n",
    "    value=row[3].split(\",\")\n",
    "    if(value[1].strip()=='2018'):\n",
    "        value2 = value[0].split(' ')\n",
    "        month = value2[0].strip()\n",
    "        if month in dict:\n",
    "            dict[month] += 1\n",
    "        else:\n",
    "            dict[month] = 1\n",
    "v = list(dict.values()) \n",
    "k = list(dict.keys())  \n",
    "print(\"The no of jobs openings are in month\",k[v.index(max(v))],\"with no of openings\",max(v)) \n"
   ]
  },
  {
   "cell_type": "markdown",
   "metadata": {},
   "source": [
    "# No of jobs available for Bachelors degree"
   ]
  },
  {
   "cell_type": "code",
   "execution_count": 2,
   "metadata": {},
   "outputs": [
    {
     "name": "stdout",
     "output_type": "stream",
     "text": [
      "No of jobs available for bachelors degree is 2961\n"
     ]
    }
   ],
   "source": [
    "import csv\n",
    "with open('Datasets/amazon_jobs_dataset.csv','r',encoding=\"utf8\") as file_obj:\n",
    "    file_data=csv.reader(file_obj,skipinitialspace=True)\n",
    "    file_list=list(file_data) \n",
    "count=0\n",
    "for row in file_list[1:]:\n",
    "    #p=row['BASIC QUALIFICATIONS']\n",
    "    p=row[5]\n",
    "    if \"Bachelor\" in p:\n",
    "        count+=1\n",
    "    elif \"BS\" in p:\n",
    "        count+=1\n",
    "    elif \"BA\" in p:\n",
    "        count+=1\n",
    "print(\"No of jobs available for bachelors degree is\",count)"
   ]
  },
  {
   "cell_type": "markdown",
   "metadata": {},
   "source": [
    "# Among Java, C++ and Python, which of the language has more job openings in India for Bachelor Degree Holder?"
   ]
  },
  {
   "cell_type": "code",
   "execution_count": 5,
   "metadata": {},
   "outputs": [
    {
     "name": "stdout",
     "output_type": "stream",
     "text": [
      "Java 103\n"
     ]
    }
   ],
   "source": [
    "## Open and read data file as specified in the question\n",
    "## Print the required output in given format\n",
    "import csv\n",
    "with open('Datasets/amazon_jobs_dataset.csv','r',encoding=\"utf8\") as file_obj:\n",
    "    file_data=csv.reader(file_obj,skipinitialspace=True)\n",
    "    file_list=list(file_data) \n",
    "count=0\n",
    "count1=0\n",
    "count2=0\n",
    "\n",
    "for row in file_list[1:]:\n",
    "   if row[2][:2] == 'IN':\n",
    "       p=row[5]\n",
    "       if \"Bachelor\" in p or  \"BS\" in p or \"BA\" in  p:\n",
    "            if \"Java\" in p:\n",
    "                count+=1\n",
    "                if \"C++\" in p:\n",
    "                    count1+=1\n",
    "                    if \"Python\" in p:\n",
    "                        count2+=1\n",
    "ans = max(count, max(count1, count2))\n",
    "if ans == count:\n",
    "     print('Java', ans)\n",
    "elif ans == count1:\n",
    "     print('C++', ans)\n",
    "else:\n",
    "     print('Python', ans)"
   ]
  },
  {
   "cell_type": "markdown",
   "metadata": {},
   "source": [
    "# Most No of Java developers openings in Country"
   ]
  },
  {
   "cell_type": "code",
   "execution_count": 2,
   "metadata": {},
   "outputs": [
    {
     "name": "stdout",
     "output_type": "stream",
     "text": [
      "US 2009\n"
     ]
    }
   ],
   "source": [
    "## Open and read data file as specified in the question\n",
    "## Print the required output in given format\n",
    "\n",
    "import csv\n",
    "path='Datasets/amazon_jobs_dataset.csv'\n",
    "country_basic_qualifications=[]\n",
    "with open(path,'r',encoding='utf-8') as csvFile:\n",
    "    reader=csv.DictReader(csvFile)\n",
    "    for row in reader:\n",
    "        country_basic_qualifications.append([row['location'],row['BASIC QUALIFICATIONS']])\n",
    "## Get Java Developer from the different country\n",
    "def getTheJavaDeveloper(arr):\n",
    "    arrlist=[]\n",
    "    for i in arr:\n",
    "        if 'Java' in i[1]:\n",
    "            arrlist.append(i[0].split(',')[0])\n",
    "    return arrlist\n",
    "java_developer=getTheJavaDeveloper(country_basic_qualifications)\n",
    "def createDictionary(arr):\n",
    "    dictionary={i:0 for i in set(arr)}\n",
    "    for i in arr:\n",
    "        dictionary[i]=dictionary.get(i)+1\n",
    "    return dictionary\n",
    "def convertDictToList(dictionary):\n",
    "    arrlist=[]\n",
    "    for i in dictionary:\n",
    "        arrlist.append([dictionary.get(i),i])\n",
    "    arrlist.sort(reverse=True)\n",
    "    return arrlist\n",
    "java_dict=createDictionary(java_developer)\n",
    "java_list=convertDictToList(java_dict)\n",
    "print(java_list[0][1],java_list[0][0])\n",
    "\n"
   ]
  },
  {
   "cell_type": "code",
   "execution_count": null,
   "metadata": {},
   "outputs": [],
   "source": []
  }
 ],
 "metadata": {
  "kernelspec": {
   "display_name": "Python 3",
   "language": "python",
   "name": "python3"
  },
  "language_info": {
   "codemirror_mode": {
    "name": "ipython",
    "version": 3
   },
   "file_extension": ".py",
   "mimetype": "text/x-python",
   "name": "python",
   "nbconvert_exporter": "python",
   "pygments_lexer": "ipython3",
   "version": "3.7.4"
  }
 },
 "nbformat": 4,
 "nbformat_minor": 2
}
